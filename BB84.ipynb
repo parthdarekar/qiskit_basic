{
 "cells": [
  {
   "cell_type": "code",
   "execution_count": 2,
   "metadata": {},
   "outputs": [],
   "source": [
    "#Program to demonstrate the BB84 protocol in qiskit.\n",
    "from qiskit import *\n",
    "import numpy as np"
   ]
  },
  {
   "cell_type": "code",
   "execution_count": 3,
   "metadata": {},
   "outputs": [],
   "source": [
    "#Alice's function to encode the bit string\n",
    "#Alice uses the random bit string to select the qubit basis in which the bits are encoded.\n",
    "#In the {0,1} basis, bit 0 is encoded as ket(0) and bit 1 as ket(1)\n",
    "#In the {+,-} basis, bit 0 is encoded as ket(+) and bit 1 as ket(-)\n",
    "\n",
    "def Alice_encode(rand_str_Alice,info_str,qc):\n",
    "    i=0\n",
    "    for (bit,info) in zip(rand_str_Alice,info_str):\n",
    "        if bit=='0': #use the {0,1} basis to encode\n",
    "            if info=='1':\n",
    "                qc.x(i)\n",
    "        else:         #use the {+,-} basis to encode\n",
    "            qc.h(i)\n",
    "            if info=='1':\n",
    "                qc.z(i)\n",
    "        i+=1\n",
    "        \n",
    "    qc.barrier()\n",
    "    return qc  \n"
   ]
  },
  {
   "cell_type": "code",
   "execution_count": 4,
   "metadata": {},
   "outputs": [],
   "source": [
    "#Alice's function to extract the secret key after public knowledge of the choice of basis\n",
    "\n",
    "def Alice_extract_key(rand_str_Alice,rand_str_Bob,info_str):\n",
    "    secret_key_Alice=''\n",
    "    for (bit_a,bit_b,bit_c) in zip(rand_str_Alice,rand_str_Bob,info_str):\n",
    "        if bit_a==bit_b:  #Keeping only those bits for which the basis was the same\n",
    "            secret_key_Alice+=bit_c\n",
    "    return secret_key_Alice                  "
   ]
  },
  {
   "cell_type": "code",
   "execution_count": 5,
   "metadata": {},
   "outputs": [],
   "source": [
    "#Bob's function to perform the measurement on the qubits received\n",
    "\n",
    "def Bob_measure(rand_str_Bob,qc):\n",
    "    j=0\n",
    "    for bit in rand_str_Bob:\n",
    "        if bit=='1':  #measure in the {0,1} basis if bit=0, else in the {+,-} basis\n",
    "            qc.h(j)   #Required for effective measurement in the {+,-} basis\n",
    "        qc.measure(j,j)\n",
    "        j+=1\n",
    "        \n",
    "    backend_req=Aer.get_backend('qasm_simulator')  #setting up the backend\n",
    "    result=execute(qc,backend_req,shots=1).result() #need to measure only once\n",
    "    counts=result.get_counts()  #This contains a dictionary with key=measurement result, value=count of that result\n",
    "    #print(counts)    #NOTE-qiskit orders the qubits in reverse: q_5,q_4...q_0    \n",
    "    qc.barrier()\n",
    "    \n",
    "    #To extract the bit string for measurement results-\n",
    "    Bob_results=''\n",
    "    for key in counts:\n",
    "        Bob_results+=key\n",
    "    Bob_results=Bob_results[::-1] #NOTE-qiskit orders the qubits in reverse: q_5,q_4...q_0\n",
    "    \n",
    "    return qc,Bob_results        \n",
    "            "
   ]
  },
  {
   "cell_type": "code",
   "execution_count": 6,
   "metadata": {},
   "outputs": [],
   "source": [
    "#Bob's function to extract the secret key after public knowledge of the choice of basis\n",
    "\n",
    "def Bob_extract_key(rand_str_Alice,rand_str_Bob,Bob_results):\n",
    "    secret_key_Bob=''\n",
    "    for (bit_a,bit_b,bit_c) in zip(rand_str_Alice,rand_str_Bob,Bob_results):\n",
    "        if bit_a==bit_b:   #Keeping only those results for which the basis was the same\n",
    "            secret_key_Bob+=bit_c  \n",
    "            \n",
    "    return secret_key_Bob\n"
   ]
  },
  {
   "cell_type": "code",
   "execution_count": 7,
   "metadata": {},
   "outputs": [],
   "source": [
    "#Defining the required values\n",
    "n=6                #length of the information string\n",
    "rand_str_Alice='011011' #random string to select the basis for Alice, the source of this string can be changed\n",
    "rand_str_Bob='010001'   #random string to select the basis for Bob\n",
    "info_str='100110'  #bit string to set up the secret key\n",
    "qc=QuantumCircuit(n,n) #no. of qubits should be equal to the length of the information string\n",
    "\n",
    "#Both the random bit string and the information bit string must be of the same length\n",
    "if len(rand_str_Alice)!=len(info_str):\n",
    "    print(\"Length of the random bit string and the information bit string is unequal!\")\n",
    "    #exit()"
   ]
  },
  {
   "cell_type": "code",
   "execution_count": 8,
   "metadata": {},
   "outputs": [],
   "source": [
    "#Encoding done by Alice\n",
    "\n",
    "qc=Alice_encode(rand_str_Alice,info_str,qc)\n",
    "#qc.draw(output='mpl')\n",
    "\n",
    "#qubits are then transferred to Bob through a quantum channel, here it is assumed that thsi is done."
   ]
  },
  {
   "cell_type": "code",
   "execution_count": 9,
   "metadata": {},
   "outputs": [],
   "source": [
    "#Measurement done by Bob using his own random bit string to decide the measurement basis\n",
    "\n",
    "qc,Bob_results=Bob_measure(rand_str_Bob,qc)\n",
    "#qc.draw(output='mpl')\n"
   ]
  },
  {
   "cell_type": "code",
   "execution_count": 10,
   "metadata": {},
   "outputs": [
    {
     "name": "stdout",
     "output_type": "stream",
     "text": [
      "1010\n",
      "1010\n"
     ]
    }
   ],
   "source": [
    "#Now Bob and Alice make their choice of basis public. In this demonstration, it is assumed that this is done.\n",
    "#If the choice of basis is different, the measurement result is discarded, else it forms the secret key\n",
    "\n",
    "secret_key_Alice=Alice_extract_key(rand_str_Alice,rand_str_Bob,info_str)\n",
    "secret_key_Bob=Bob_extract_key(rand_str_Alice,rand_str_Bob,Bob_results)\n",
    "\n",
    "#Both values should be the same for a successful key distribution\n",
    "print(secret_key_Alice) \n",
    "print(secret_key_Bob)\n",
    "#This secret key can then be used for communicating messages between Alice and Bob."
   ]
  },
  {
   "cell_type": "code",
   "execution_count": null,
   "metadata": {},
   "outputs": [],
   "source": []
  }
 ],
 "metadata": {
  "kernelspec": {
   "display_name": "Python 3",
   "language": "python",
   "name": "python3"
  },
  "language_info": {
   "codemirror_mode": {
    "name": "ipython",
    "version": 3
   },
   "file_extension": ".py",
   "mimetype": "text/x-python",
   "name": "python",
   "nbconvert_exporter": "python",
   "pygments_lexer": "ipython3",
   "version": "3.8.2"
  }
 },
 "nbformat": 4,
 "nbformat_minor": 4
}
